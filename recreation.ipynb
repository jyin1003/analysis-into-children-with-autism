{
 "cells": [
  {
   "cell_type": "code",
   "execution_count": 1,
   "metadata": {},
   "outputs": [],
   "source": [
    "import numpy as np\n",
    "import glob\n",
    "\n",
    "from scipy import stats\n",
    "import matplotlib.pyplot as plt"
   ]
  },
  {
   "cell_type": "code",
   "execution_count": 2,
   "metadata": {},
   "outputs": [
    {
     "name": "stdout",
     "output_type": "stream",
     "text": [
      "[('cog', 'indoor', 'base'), ('cog', 'indoor', 'inter'), ('cog', 'outdoor', 'base'), ('cog', 'outdoor', 'inter'), ('so', 'indoor', 'base'), ('so', 'indoor', 'inter'), ('so', 'outdoor', 'base'), ('so', 'outdoor', 'inter')]\n"
     ]
    }
   ],
   "source": [
    "data_directory = \"./vis_project_data/\"\n",
    "\n",
    "# Default weights adjusted to match results\n",
    "cog_weights = np.array([0, -1, 1, 2, 2, 3, 5])\n",
    "so_weights = np.array([-1, 0, 1, 2, 2, 3, 5])\n",
    "\n",
    "\n",
    "# Types of sessions/files:\n",
    "session_types = [\"cog\", \"so\"]\n",
    "whatdoors = [\"indoor\", \"outdoor\"]\n",
    "whichs = [\"base\", \"inter\"]\n",
    "ca_peer_list = [\"albert\", \"barry\", \"chris\", \"dana\"]\n",
    "\n",
    "# Combine to single itteratable list\n",
    "combined_scenarios = [\n",
    "    (ses_type, whatdoor, which)\n",
    "    for ses_type in session_types\n",
    "    for whatdoor in whatdoors\n",
    "    for which in whichs\n",
    "]\n",
    "\n",
    "print(combined_scenarios)"
   ]
  },
  {
   "cell_type": "code",
   "execution_count": 3,
   "metadata": {},
   "outputs": [],
   "source": [
    "def combined_score(filename, weights):\n",
    "    \"\"\"Calculates the 'score' for a single session/file.\n",
    "    Assumes total session duration is 360s, otherwise returns 'nan'.\n",
    "    This could be modified simply to also return other details of the session.\"\"\"\n",
    "    with open(filename, \"r\") as file:\n",
    "        score = 0.0\n",
    "        total_duration = 0.0\n",
    "        t_end_prev = 0.0\n",
    "        for count, line in enumerate(file.readlines()):\n",
    "            # print(count, line)\n",
    "            data = line.split(\",\", 4)\n",
    "            if count == 0:\n",
    "                continue\n",
    "            if line[0] == \"*\":\n",
    "                break\n",
    "\n",
    "            t_catagory = int(data[0])\n",
    "            t_beg = int(data[1])\n",
    "            t_end = int(data[2])\n",
    "\n",
    "            if t_beg != t_end_prev:\n",
    "                print(\"Error, missing time stamp?\")\n",
    "            t_end_prev = t_end\n",
    "\n",
    "            assert t_end >= t_beg\n",
    "            if count == 1:\n",
    "                assert t_beg == 0\n",
    "\n",
    "            duration = float(t_end - t_beg)\n",
    "            total_duration += duration\n",
    "            score += weights[t_catagory - 1] * duration\n",
    "        return score / total_duration"
   ]
  },
  {
   "cell_type": "code",
   "execution_count": 4,
   "metadata": {},
   "outputs": [
    {
     "data": {
      "text/plain": [
       "array([['albert', 'lydia'],\n",
       "       ['albert', 'ulrich'],\n",
       "       ['barry', 'mario'],\n",
       "       ['barry', 'viola'],\n",
       "       ['chris', 'nellie'],\n",
       "       ['chris', 'wendy'],\n",
       "       ['dana', 'oscar'],\n",
       "       ['dana', 'xavier'],\n",
       "       ['ellie', 'peter'],\n",
       "       ['ellie', 'yoshi'],\n",
       "       ['ellie', 'zara']], dtype='<U6')"
      ]
     },
     "execution_count": 4,
     "metadata": {},
     "output_type": "execute_result"
    }
   ],
   "source": [
    "def unique_pairs():\n",
    "    \"\"\"Returns list of unique ca/peer pairs\"\"\"\n",
    "    all_files = glob.glob(data_directory + \"/*.dtx\")\n",
    "    list = []\n",
    "    for file in all_files:\n",
    "        t = file.split(\"-\")\n",
    "        list.append([t[4], t[5]])\n",
    "\n",
    "    return np.unique(list, axis=0)\n",
    "\n",
    "unique_pairs()"
   ]
  },
  {
   "cell_type": "code",
   "execution_count": 5,
   "metadata": {},
   "outputs": [],
   "source": [
    "def get_files(ca, peer):\n",
    "    files = []\n",
    "    for ses_type, whatdoor, which in combined_scenarios:\n",
    "        file_pattern = f\"{ses_type}-*-{which}-*-{ca}-{peer}-{whatdoor}.dtx\"\n",
    "        files.extend(glob.glob(data_directory + file_pattern))\n",
    "    return files\n",
    "\n",
    "# get list of files for each pair \n",
    "def get_pair_files():\n",
    "    ca_peer_list = unique_pairs()\n",
    "    file_list = []\n",
    "    for pair in ca_peer_list:\n",
    "        files = get_files(pair[0], pair[1])\n",
    "        file_list.append(files)\n",
    "    return file_list"
   ]
  },
  {
   "cell_type": "code",
   "execution_count": 6,
   "metadata": {},
   "outputs": [],
   "source": [
    "# get trained dyads\n",
    "def get_trained_pair_files():\n",
    "    ca_peer_list = unique_pairs()\n",
    "    file_list = []\n",
    "    for pair in ca_peer_list:\n",
    "        files = get_files(pair[0], pair[1])\n",
    "        if pair[1][0].upper() >= 'U' and pair[1][0].upper() <= 'Z':\n",
    "            file_list.append(files)\n",
    "    return file_list"
   ]
  },
  {
   "cell_type": "code",
   "execution_count": 7,
   "metadata": {},
   "outputs": [],
   "source": [
    "# get untrained dyads\n",
    "def get_untrained_pair_files():\n",
    "    ca_peer_list = unique_pairs()\n",
    "    file_list = []\n",
    "    for pair in ca_peer_list:\n",
    "        files = get_files(pair[0], pair[1])\n",
    "        if pair[1][0].upper() >= 'L' and pair[1][0].upper() <= 'P':\n",
    "            file_list.append(files)\n",
    "    return file_list"
   ]
  },
  {
   "cell_type": "code",
   "execution_count": 8,
   "metadata": {},
   "outputs": [
    {
     "data": {
      "text/plain": [
       "[0.4961111111111111, 0.46407431423835827, 0.20754034264971352]"
      ]
     },
     "execution_count": 8,
     "metadata": {},
     "output_type": "execute_result"
    }
   ],
   "source": [
    "# returns all the trials in a list for a given CA and scenario\n",
    "def filter_ca_scenario(files, ses_type, which, ca, whatdoor):\n",
    "    filtered_files = []\n",
    "    for file_pair_list in files:\n",
    "        for file in file_pair_list:\n",
    "            file_name = file.split('\\\\')[-1]  # Extract the file name\n",
    "            components = file_name.split('-')      \n",
    "            #print(\"file components\")\n",
    "            #print(components)\n",
    "            if len(components) >= 7 and \\\n",
    "                components[0] == ses_type and \\\n",
    "                components[-1].startswith(whatdoor) and \\\n",
    "                components[2] == which and \\\n",
    "                components[4] == ca:\n",
    "                filtered_files.append(file)\n",
    "    #print(filtered_files)\n",
    "    return filtered_files\n",
    "\n",
    "#filter_ca_scenario(get_trained_pair_files(), \"cog\", \"base\", \"albert\", \"indoor\")\n",
    "\n",
    "def get_ca_scenario_stats(files, ses_type):\n",
    "    if ses_type == \"so\":\n",
    "        weights = so_weights\n",
    "    else:\n",
    "        weights = cog_weights\n",
    "    scores = []\n",
    "    statistics = []\n",
    "    for file in files:\n",
    "        temp_score = combined_score(file, weights)\n",
    "        #print(temp_score)\n",
    "        scores.append(temp_score)\n",
    "    statistics.append(np.mean(scores))\n",
    "    sdev = np.std(scores, ddof=1)  # \"corrected\" sdev\n",
    "    statistics.append(sdev)\n",
    "    statistics.append(sdev / np.sqrt(len(scores)))\n",
    "    return statistics # returns mean, std, and standard error of mean\n",
    "\n",
    "files = filter_ca_scenario(get_trained_pair_files(), \"so\", \"base\", \"albert\", \"indoor\")\n",
    "get_ca_scenario_stats(files, \"so\")"
   ]
  },
  {
   "cell_type": "code",
   "execution_count": 9,
   "metadata": {},
   "outputs": [
    {
     "name": "stderr",
     "output_type": "stream",
     "text": [
      "C:\\Users\\jyin1\\AppData\\Local\\Temp\\ipykernel_11056\\1756658739.py:61: UserWarning: marker is redundantly defined by the 'marker' keyword argument and the fmt string \"o\" (-> marker='o'). The keyword argument will take precedence.\n",
      "  plt.errorbar(x_before, y_before, yerr=errors_before, fmt='o', label='Before', color='black', marker='s')\n",
      "C:\\Users\\jyin1\\AppData\\Local\\Temp\\ipykernel_11056\\1756658739.py:62: UserWarning: marker is redundantly defined by the 'marker' keyword argument and the fmt string \"o\" (-> marker='o'). The keyword argument will take precedence.\n",
      "  plt.errorbar(x_after, y_after, yerr=errors_after, fmt='o', label='After', color='black', marker='^')\n",
      "C:\\Users\\jyin1\\AppData\\Local\\Temp\\ipykernel_11056\\1756658739.py:65: UserWarning: marker is redundantly defined by the 'marker' keyword argument and the fmt string \"o\" (-> marker='o'). The keyword argument will take precedence.\n",
      "  plt.errorbar(5, before_avg[-1], yerr=before_err[-1], fmt='o', color='blue', marker='s')\n",
      "C:\\Users\\jyin1\\AppData\\Local\\Temp\\ipykernel_11056\\1756658739.py:66: UserWarning: marker is redundantly defined by the 'marker' keyword argument and the fmt string \"o\" (-> marker='o'). The keyword argument will take precedence.\n",
      "  plt.errorbar(5.5, after_avg[-1], yerr=after_err[-1], fmt='o', color='blue', marker='^')\n",
      "C:\\Users\\jyin1\\AppData\\Local\\Temp\\ipykernel_11056\\1756658739.py:69: UserWarning: marker is redundantly defined by the 'marker' keyword argument and the fmt string \"o\" (-> marker='o'). The keyword argument will take precedence.\n",
      "  plt.errorbar(1, before_avg[0], yerr=before_err[0], fmt='o', color='blue', marker='s')\n",
      "C:\\Users\\jyin1\\AppData\\Local\\Temp\\ipykernel_11056\\1756658739.py:70: UserWarning: marker is redundantly defined by the 'marker' keyword argument and the fmt string \"o\" (-> marker='o'). The keyword argument will take precedence.\n",
      "  plt.errorbar(1.5, after_avg[0], yerr=after_err[0], fmt='o', color='blue', marker='^')\n"
     ]
    },
    {
     "data": {
      "image/png": "[encoded data removed]",
      "text/plain": [
       "<Figure size 640x480 with 1 Axes>"
      ]
     },
     "metadata": {},
     "output_type": "display_data"
    }
   ],
   "source": [
    "# get data points for graph: trained dyads indoor play social \n",
    "\n",
    "# before training\n",
    "before_avg = []\n",
    "before_err = []\n",
    "for ca in ca_peer_list:\n",
    "    statistics = get_ca_scenario_stats(\n",
    "        filter_ca_scenario(\n",
    "            get_trained_pair_files(), \"so\", \"base\", ca, \"indoor\"), \"so\")\n",
    "    before_avg.append(statistics[0])\n",
    "    before_err.append(statistics[2])\n",
    "\n",
    "overall_bef_avg = np.mean(before_avg)\n",
    "overall_bef_err = np.mean(before_err)\n",
    "before_avg.append(overall_bef_avg)\n",
    "before_err.append(overall_bef_err)\n",
    "\n",
    "# after training\n",
    "after_avg = []\n",
    "after_err = []\n",
    "for ca in ca_peer_list:\n",
    "    statistics = get_ca_scenario_stats(\n",
    "        filter_ca_scenario(\n",
    "            get_trained_pair_files(), \"so\", \"inter\", ca, \"indoor\"), \"so\")\n",
    "    after_avg.append(statistics[0])\n",
    "    after_err.append(statistics[2])\n",
    "    \n",
    "overall_af_avg = np.mean(after_avg)\n",
    "overall_af_err = np.mean(after_err)\n",
    "after_avg.append(overall_af_avg)\n",
    "after_err.append(overall_af_err)\n",
    "#print(after_avg)\n",
    "#print(after_err)\n",
    "\n",
    "differences = []\n",
    "for i in range(len(before_avg)):\n",
    "    differences.append(after_avg[i] - before_avg[i])\n",
    "    \n",
    "# Print results\n",
    "#print(\"Paired t-test results:\")\n",
    "#print(\"t-statistic:\", t_statistic)\n",
    "#print(\"p-value:\", p_value)\n",
    "\n",
    "# Interpret the p-value\n",
    "#if p_value <= 0.05:\n",
    "   # print(\"The change is statistically significant at the α=0.05 level.\")\n",
    "#else:\n",
    "    #print(\"The change is not statistically significant at the α=0.05 level.\")\n",
    "\n",
    "# Data for \"before\" and \"after\" measurements\n",
    "x_before = np.array([1, 2, 3, 4, 5])\n",
    "y_before = before_avg\n",
    "errors_before = before_err\n",
    "\n",
    "x_after = np.array([1.5, 2.5, 3.5, 4.5, 5.5])\n",
    "y_after = after_avg\n",
    "errors_after = after_err\n",
    "\n",
    "# Plotting the error bar graph\n",
    "plt.errorbar(x_before, y_before, yerr=errors_before, fmt='o', label='Before', color='black', marker='s')\n",
    "plt.errorbar(x_after, y_after, yerr=errors_after, fmt='o', label='After', color='black', marker='^')\n",
    "\n",
    "# Change color for \"All CAs\" data point\n",
    "plt.errorbar(5, before_avg[-1], yerr=before_err[-1], fmt='o', color='blue', marker='s')\n",
    "plt.errorbar(5.5, after_avg[-1], yerr=after_err[-1], fmt='o', color='blue', marker='^')\n",
    "\n",
    "# Change color for \"All CAs\" data point\n",
    "plt.errorbar(1, before_avg[0], yerr=before_err[0], fmt='o', color='blue', marker='s')\n",
    "plt.errorbar(1.5, after_avg[0], yerr=after_err[0], fmt='o', color='blue', marker='^')\n",
    "\n",
    "# Adding vertical lines to separate groups\n",
    "for i in range(len(x_before) - 1):\n",
    "    plt.axvline(x_before[i] + 0.75, color='black', linestyle='--')\n",
    "    \n",
    "# Adding labels and title\n",
    "plt.ylabel('Social Interaction')\n",
    "plt.title('Indoor Play: Social Interaction Behaviour with Trained Dyads')\n",
    "\n",
    "x_midpoints = (x_before + x_after) / 2\n",
    "\n",
    "# Customizing x-axis ticks and labels\n",
    "plt.xticks(x_midpoints, ['CA1', 'CA2', 'CA3', 'CA5', \"All CAs\"])\n",
    "\n",
    "# Annotate each xtick with a box displaying the differences\n",
    "for i, (x, diff) in enumerate(zip(x_midpoints, differences)):\n",
    "    plt.text(x - 0.4, max(y_before[i], y_after[i]) + 0.2, f'∆: {diff:.2f}', bbox=dict(facecolor='white', alpha=0.5, edgecolor='black', boxstyle='round,pad=0.3'))\n",
    "    \n",
    "# Adding legend\n",
    "plt.legend()\n",
    "plt.text(0.15, 0.7, \"Statistically Significant Difference\", bbox=dict(facecolor='blue', alpha=0.5, edgecolor='black', boxstyle='round,pad=0.3'), transform=plt.gcf().transFigure)\n",
    "\n",
    "# Display the plot\n",
    "plt.grid(axis='y')\n",
    "plt.show()\n"
   ]
  },
  {
   "cell_type": "code",
   "execution_count": 10,
   "metadata": {},
   "outputs": [
    {
     "name": "stdout",
     "output_type": "stream",
     "text": [
      "Independent two-sample t-test results:\n",
      "t-statistic: -2.083315746643066\n",
      "p-value: 0.04122186391308713\n"
     ]
    }
   ],
   "source": [
    "from scipy import stats\n",
    "trained_files = get_trained_pair_files()\n",
    "# Loop through each CA\n",
    "before_data = []  # Data before training for current CA\n",
    "after_data = []   # Data after training for current CA\n",
    "for i, ca in enumerate(ca_peer_list):\n",
    "    # Get data for the current CA\n",
    "    # Extract data for the current CA\n",
    "    before_files = filter_ca_scenario(trained_files, \"so\", \"base\", ca, \"indoor\")\n",
    "    for file in before_files:\n",
    "        score = combined_score(file, so_weights)\n",
    "        before_data.append(score)\n",
    "    after_files = filter_ca_scenario(trained_files, \"so\", \"inter\", ca, \"indoor\")\n",
    "    for file in after_files:\n",
    "        score = combined_score(file, so_weights)\n",
    "        after_data.append(score)\n",
    "\n",
    "# Perform paired t-test for the current CA\n",
    "t_statistic, p_value = stats.ttest_ind(before_data, after_data)\n",
    "print(\"Independent two-sample t-test results:\")\n",
    "print(\"t-statistic:\", t_statistic)\n",
    "print(\"p-value:\", p_value)\n",
    "\n"
   ]
  },
  {
   "cell_type": "code",
   "execution_count": 11,
   "metadata": {},
   "outputs": [
    {
     "name": "stdout",
     "output_type": "stream",
     "text": [
      "Independent two-sample t-test results:\n",
      "t-statistic: -2.6492686948336175\n",
      "p-value: 0.020039612741507562\n",
      "albert\n",
      "Independent two-sample t-test results:\n",
      "t-statistic: -0.4007371538388608\n",
      "p-value: 0.6946625337230197\n",
      "Independent two-sample t-test results:\n",
      "t-statistic: -2.140509783102916\n",
      "p-value: 0.05039950451236848\n",
      "Independent two-sample t-test results:\n",
      "t-statistic: -1.9973987943433025\n",
      "p-value: 0.06204463848761089\n"
     ]
    }
   ],
   "source": [
    "from scipy import stats\n",
    "trained_files = get_trained_pair_files()\n",
    "# Loop through each CA\n",
    "avg_before = []\n",
    "avg_after = []\n",
    "for i, ca in enumerate(ca_peer_list):\n",
    "    # Get data for the current CA\n",
    "    before_data = []  # Data before training for current CA\n",
    "    after_data = []   # Data after training for current CA\n",
    "        \n",
    "    # Extract data for the current CA\n",
    "    before_files = filter_ca_scenario(trained_files, \"so\", \"base\", ca, \"indoor\")\n",
    "    for file in before_files:\n",
    "        score = combined_score(file, so_weights)\n",
    "        before_data.append(score)\n",
    "    after_files = filter_ca_scenario(trained_files, \"so\", \"inter\", ca, \"indoor\")\n",
    "    for file in after_files:\n",
    "        score = combined_score(file, so_weights)\n",
    "        after_data.append(score)\n",
    "\n",
    "    # Perform paired t-test for the current CA\n",
    "    t_statistic, p_value = stats.ttest_ind(before_data, after_data)\n",
    "    print(\"Independent two-sample t-test results:\")\n",
    "    print(\"t-statistic:\", t_statistic)\n",
    "    print(\"p-value:\", p_value)\n",
    "    if p_value <= 0.05:\n",
    "        print(ca)\n"
   ]
  }
 ],
 "metadata": {
  "kernelspec": {
   "display_name": "Python 3",
   "language": "python",
   "name": "python3"
  },
  "language_info": {
   "codemirror_mode": {
    "name": "ipython",
    "version": 3
   },
   "file_extension": ".py",
   "mimetype": "text/x-python",
   "name": "python",
   "nbconvert_exporter": "python",
   "pygments_lexer": "ipython3",
   "version": "3.11.4"
  }
 },
 "nbformat": 4,
 "nbformat_minor": 2
}
